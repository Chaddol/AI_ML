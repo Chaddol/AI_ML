{
  "cells": [
    {
      "cell_type": "markdown",
      "metadata": {
        "id": "view-in-github",
        "colab_type": "text"
      },
      "source": [
        "<a href=\"https://colab.research.google.com/github/Chaddol/AI_ML/blob/main/Chest%20X-ray/Data_imbalance_Weighted_B_C.ipynb\" target=\"_parent\"><img src=\"https://colab.research.google.com/assets/colab-badge.svg\" alt=\"Open In Colab\"/></a>"
      ]
    },
    {
      "cell_type": "code",
      "execution_count": null,
      "metadata": {
        "id": "iJJF_uOf2OjH"
      },
      "outputs": [],
      "source": [
        "import glob\n",
        "import tensorflow as tf\n",
        "import numpy as np\n",
        "import matplotlib.pyplot as plt\n",
        "import cv2\n",
        "from sklearn.model_selection import train_test_split\n",
        "import imgaug.augmenters as iaa\n",
        "from tqdm import tqdm\n",
        "from PIL import Image"
      ]
    },
    {
      "cell_type": "code",
      "execution_count": null,
      "metadata": {
        "colab": {
          "base_uri": "https://localhost:8080/"
        },
        "id": "h6jkjyASUvdG",
        "outputId": "21d541c3-8a5d-4373-b8b0-cf7af8b5263b"
      },
      "outputs": [
        {
          "name": "stdout",
          "output_type": "stream",
          "text": [
            "Mounted at /content/drive\n"
          ]
        }
      ],
      "source": [
        "from google.colab import drive\n",
        "drive.mount('/content/drive')"
      ]
    },
    {
      "cell_type": "code",
      "execution_count": null,
      "metadata": {
        "colab": {
          "base_uri": "https://localhost:8080/"
        },
        "id": "tv1VqXjM35Ju",
        "outputId": "47775fb7-9852-429a-f0d6-5306ebd38132"
      },
      "outputs": [
        {
          "name": "stdout",
          "output_type": "stream",
          "text": [
            "/content\n"
          ]
        }
      ],
      "source": [
        "%cd /content\n",
        "\n",
        "!unzip -qq '/content/drive/MyDrive/팀 프로젝트/흉부_xray/Training.zip'"
      ]
    },
    {
      "cell_type": "code",
      "execution_count": null,
      "metadata": {
        "id": "3Ye_r9pSAEg1"
      },
      "outputs": [],
      "source": []
    },
    {
      "cell_type": "code",
      "execution_count": null,
      "metadata": {
        "id": "TFqW9U8W7nhb"
      },
      "outputs": [],
      "source": [
        "from keras.preprocessing.image import ImageDataGenerator\n",
        "\n",
        "train_datagen = ImageDataGenerator(rotation_range=90,\n",
        "                                   width_shift_range=0.2,\n",
        "                                   height_shift_range=0.2,\n",
        "                                   shear_range=0.2,\n",
        "                                   zoom_range=0.2,\n",
        "                                   horizontal_flip=True,\n",
        "                                   fill_mode='nearest',\n",
        "                                   validation_split=0.2\n",
        "                                   )\n",
        "\n",
        "test_datagen = ImageDataGenerator(validation_split=0.2)"
      ]
    },
    {
      "cell_type": "code",
      "execution_count": null,
      "metadata": {
        "id": "G6jgRKCX7oOu"
      },
      "outputs": [],
      "source": [
        "input_shape = 224\n",
        "batch_size = 32"
      ]
    },
    {
      "cell_type": "code",
      "execution_count": null,
      "metadata": {
        "colab": {
          "base_uri": "https://localhost:8080/"
        },
        "id": "yds8Y3-r72JQ",
        "outputId": "f6d74121-21a9-43af-9a4e-3e7f3a4b04f3"
      },
      "outputs": [
        {
          "name": "stdout",
          "output_type": "stream",
          "text": [
            "rmdir: failed to remove '/content/raw/Ch03/.ipynb_checkpoints': No such file or directory\n"
          ]
        }
      ],
      "source": [
        "data_dir = '/content/raw/Ch03'\n",
        "\n",
        "# f = data_dir + '/.ipynb_checkpoints'\n",
        "!rmdir /content/raw/Ch03/.ipynb_checkpoints"
      ]
    },
    {
      "cell_type": "code",
      "execution_count": null,
      "metadata": {
        "id": "TdkBYEhuAK-R"
      },
      "outputs": [],
      "source": [
        "import os\n",
        "os.rename(data_dir + '/ABN', data_dir + '/1')\n",
        "os.rename(data_dir + '/NOR', data_dir + '/0')"
      ]
    },
    {
      "cell_type": "code",
      "execution_count": null,
      "metadata": {
        "colab": {
          "base_uri": "https://localhost:8080/"
        },
        "id": "aiypGBoX7qMI",
        "outputId": "f8bedfd2-0333-4f6d-808b-dc40334faafe"
      },
      "outputs": [
        {
          "name": "stdout",
          "output_type": "stream",
          "text": [
            "Found 7967 images belonging to 2 classes.\n",
            "Found 1991 images belonging to 2 classes.\n"
          ]
        }
      ],
      "source": [
        "\n",
        "train_generator = train_datagen.flow_from_directory(data_dir,\n",
        "                                                    target_size = (input_shape,input_shape),\n",
        "                                                    batch_size=batch_size,\n",
        "                                                    class_mode='sparse',\n",
        "                                                    seed=42,\n",
        "                                                    subset='training')\n",
        "\n",
        "test_generator = test_datagen.flow_from_directory(data_dir,\n",
        "                                                  target_size=(input_shape,input_shape),\n",
        "                                                  batch_size=batch_size,\n",
        "                                                  class_mode='sparse',\n",
        "                                                  seed=42,\n",
        "                                                  subset='validation')"
      ]
    },
    {
      "cell_type": "code",
      "execution_count": null,
      "metadata": {
        "colab": {
          "base_uri": "https://localhost:8080/"
        },
        "id": "Yvq0SRl2_Gnd",
        "outputId": "dfa2ff94-d5c0-4789-d38d-308adc251899"
      },
      "outputs": [
        {
          "data": {
            "text/plain": [
              "{'0': 0, '1': 1}"
            ]
          },
          "execution_count": 9,
          "metadata": {},
          "output_type": "execute_result"
        }
      ],
      "source": [
        "labels = (train_generator.class_indices)\n",
        "n_classes = len(labels)\n",
        "labels"
      ]
    },
    {
      "cell_type": "code",
      "execution_count": null,
      "metadata": {
        "colab": {
          "base_uri": "https://localhost:8080/"
        },
        "id": "je2SL1MMYbqh",
        "outputId": "d18710ee-76d3-4080-da77-e5782286cd25"
      },
      "outputs": [
        {
          "data": {
            "text/plain": [
              "(0.9763004619401486, 0.023699538059851376)"
            ]
          },
          "execution_count": 10,
          "metadata": {},
          "output_type": "execute_result"
        }
      ],
      "source": [
        "import os\n",
        "num_0 = len(os.listdir(data_dir + '/0'))\n",
        "num_1 = len(os.listdir(data_dir + '/1'))\n",
        "rate_0 = num_0/(num_0 + num_1)\n",
        "rate_1 = num_1/(num_0 + num_1)\n",
        "rate_0, rate_1"
      ]
    },
    {
      "cell_type": "code",
      "execution_count": null,
      "metadata": {
        "id": "utgYCunX8AiD"
      },
      "outputs": [],
      "source": [
        "from keras.applications.densenet import DenseNet121\n",
        "from keras.layers import Dense, GlobalAveragePooling2D\n",
        "from keras.models import Model\n",
        "\n",
        "def chexnet(input_shape=(224,224,3)):\n",
        "    base_model = tf.keras.applications.densenet.DenseNet121(weights='imagenet',\n",
        "                                                    include_top=False,\n",
        "                                                    input_shape=input_shape)\n",
        "    x = base_model.output\n",
        "    x = tf.keras.layers.GlobalAveragePooling2D()(x)\n",
        "    x = tf.keras.layers.Dense(512, activation='relu')(x)\n",
        "    x = tf.keras.layers.Dropout(0.5)(x)\n",
        "    predictions = tf.keras.layers.Dense(1, activation='sigmoid')(x)\n",
        "    model = tf.keras.models.Model(inputs=base_model.input, outputs=predictions)\n",
        "    return model\n",
        "\n",
        "model = chexnet()\n",
        "model.summary()"
      ]
    },
    {
      "cell_type": "code",
      "execution_count": null,
      "metadata": {
        "id": "7sucpST-gt-y"
      },
      "outputs": [],
      "source": [
        "# import tensorflow as tf\n",
        "\n",
        "class RecallAccuracyMetric(tf.keras.metrics.Metric):\n",
        "    def __init__(self, name='recall_accuracy', **kwargs):\n",
        "        super(RecallAccuracyMetric, self).__init__(name=name, **kwargs)\n",
        "        self.recall = tf.keras.metrics.Recall()\n",
        "        self.accuracy = tf.keras.metrics.BinaryAccuracy()\n",
        "        \n",
        "    def update_state(self, y_true, y_pred, sample_weight=None):\n",
        "        self.recall.update_state(y_true, y_pred, sample_weight)\n",
        "        self.accuracy.update_state(y_true, y_pred, sample_weight)\n",
        "        \n",
        "    def result(self):\n",
        "        recall = self.recall.result()\n",
        "        accuracy = self.accuracy.result()\n",
        "        return (0.5 * recall) + (0.5 * accuracy)\n",
        "    \n",
        "    def reset_states(self):\n",
        "        self.recall.reset_states()\n",
        "        self.accuracy.reset_states()\n"
      ]
    },
    {
      "cell_type": "code",
      "execution_count": null,
      "metadata": {
        "id": "4B0znmGf8DKZ"
      },
      "outputs": [],
      "source": [
        "model.compile(optimizer=tf.keras.optimizers.Adam(learning_rate=0.0001),\n",
        "               \n",
        "               loss='binary_crossentropy',\n",
        "               metrics=['binary_accuracy',tf.keras.metrics.Recall(),RecallAccuracyMetric()])\n",
        "\n",
        "saved_model = '/content/drive/MyDrive/팀 프로젝트/흉부_xray/224/all/' + 'Ch03' + '_CheXNet_test1.h5'\n",
        "\n",
        "es = tf.keras.callbacks.EarlyStopping(monitor='val_loss', mode='min', verbose=1, patience=20,restore_best_weights=True)\n",
        "mc = tf.keras.callbacks.ModelCheckpoint(saved_model, monitor='val_recall_accuracy', mode='max', verbose=1, save_best_only=True)"
      ]
    },
    {
      "cell_type": "code",
      "execution_count": null,
      "metadata": {
        "colab": {
          "base_uri": "https://localhost:8080/"
        },
        "id": "dW9PkuQ68eza",
        "outputId": "79ff7470-ec9b-406b-8fa0-6fd8437543fd"
      },
      "outputs": [
        {
          "name": "stdout",
          "output_type": "stream",
          "text": [
            "Epoch 1/1000\n",
            "249/249 [==============================] - ETA: 0s - loss: 0.0323 - binary_accuracy: 0.6459 - recall: 0.5926 - recall_accuracy: 0.6193"
          ]
        },
        {
          "name": "stderr",
          "output_type": "stream",
          "text": [
            "/usr/local/lib/python3.8/dist-packages/keras/engine/training.py:2416: UserWarning: Metric RecallAccuracyMetric implements a `reset_states()` method; rename it to `reset_state()` (without the final \"s\"). The name `reset_states()` has been deprecated to improve API consistency.\n",
            "  m.reset_state()\n"
          ]
        },
        {
          "name": "stdout",
          "output_type": "stream",
          "text": [
            "\n",
            "Epoch 1: val_recall_accuracy improved from -inf to 0.51283, saving model to /content/drive/MyDrive/팀 프로젝트/흉부_xray/224/all/Ch03_CheXNet_test1.h5\n",
            "249/249 [==============================] - 230s 607ms/step - loss: 0.0323 - binary_accuracy: 0.6459 - recall: 0.5926 - recall_accuracy: 0.6193 - val_loss: 0.1274 - val_binary_accuracy: 0.9618 - val_recall: 0.0638 - val_recall_accuracy: 0.5128\n",
            "Epoch 2/1000\n",
            "249/249 [==============================] - ETA: 0s - loss: 0.0256 - binary_accuracy: 0.7192 - recall: 0.7725 - recall_accuracy: 0.7459\n",
            "Epoch 2: val_recall_accuracy improved from 0.51283 to 0.70516, saving model to /content/drive/MyDrive/팀 프로젝트/흉부_xray/224/all/Ch03_CheXNet_test1.h5\n",
            "249/249 [==============================] - 149s 597ms/step - loss: 0.0256 - binary_accuracy: 0.7192 - recall: 0.7725 - recall_accuracy: 0.7459 - val_loss: 0.1619 - val_binary_accuracy: 0.9422 - val_recall: 0.4681 - val_recall_accuracy: 0.7052\n",
            "Epoch 3/1000\n",
            "249/249 [==============================] - ETA: 0s - loss: 0.0203 - binary_accuracy: 0.7978 - recall: 0.8148 - recall_accuracy: 0.8063\n",
            "Epoch 3: val_recall_accuracy improved from 0.70516 to 0.72196, saving model to /content/drive/MyDrive/팀 프로젝트/흉부_xray/224/all/Ch03_CheXNet_test1.h5\n",
            "249/249 [==============================] - 141s 567ms/step - loss: 0.0203 - binary_accuracy: 0.7978 - recall: 0.8148 - recall_accuracy: 0.8063 - val_loss: 0.8032 - val_binary_accuracy: 0.5716 - val_recall: 0.8723 - val_recall_accuracy: 0.7220\n",
            "Epoch 4/1000\n",
            "249/249 [==============================] - ETA: 0s - loss: 0.0191 - binary_accuracy: 0.8203 - recall: 0.8571 - recall_accuracy: 0.8387\n",
            "Epoch 4: val_recall_accuracy improved from 0.72196 to 0.76237, saving model to /content/drive/MyDrive/팀 프로젝트/흉부_xray/224/all/Ch03_CheXNet_test1.h5\n",
            "249/249 [==============================] - 141s 565ms/step - loss: 0.0191 - binary_accuracy: 0.8203 - recall: 0.8571 - recall_accuracy: 0.8387 - val_loss: 0.5365 - val_binary_accuracy: 0.7162 - val_recall: 0.8085 - val_recall_accuracy: 0.7624\n",
            "Epoch 5/1000\n",
            "249/249 [==============================] - ETA: 0s - loss: 0.0158 - binary_accuracy: 0.8338 - recall: 0.8783 - recall_accuracy: 0.8561\n",
            "Epoch 5: val_recall_accuracy improved from 0.76237 to 0.80419, saving model to /content/drive/MyDrive/팀 프로젝트/흉부_xray/224/all/Ch03_CheXNet_test1.h5\n",
            "249/249 [==============================] - 144s 577ms/step - loss: 0.0158 - binary_accuracy: 0.8338 - recall: 0.8783 - recall_accuracy: 0.8561 - val_loss: 0.2470 - val_binary_accuracy: 0.8850 - val_recall: 0.7234 - val_recall_accuracy: 0.8042\n",
            "Epoch 6/1000\n",
            "249/249 [==============================] - ETA: 0s - loss: 0.0146 - binary_accuracy: 0.8585 - recall: 0.8836 - recall_accuracy: 0.8711\n",
            "Epoch 6: val_recall_accuracy did not improve from 0.80419\n",
            "249/249 [==============================] - 141s 566ms/step - loss: 0.0146 - binary_accuracy: 0.8585 - recall: 0.8836 - recall_accuracy: 0.8711 - val_loss: 0.2789 - val_binary_accuracy: 0.8709 - val_recall: 0.6809 - val_recall_accuracy: 0.7759\n",
            "Epoch 7/1000\n",
            "249/249 [==============================] - ETA: 0s - loss: 0.0111 - binary_accuracy: 0.8933 - recall: 0.9259 - recall_accuracy: 0.9096\n",
            "Epoch 7: val_recall_accuracy improved from 0.80419 to 0.81616, saving model to /content/drive/MyDrive/팀 프로젝트/흉부_xray/224/all/Ch03_CheXNet_test1.h5\n",
            "249/249 [==============================] - 143s 574ms/step - loss: 0.0111 - binary_accuracy: 0.8933 - recall: 0.9259 - recall_accuracy: 0.9096 - val_loss: 0.2207 - val_binary_accuracy: 0.9302 - val_recall: 0.7021 - val_recall_accuracy: 0.8162\n",
            "Epoch 8/1000\n",
            "249/249 [==============================] - ETA: 0s - loss: 0.0117 - binary_accuracy: 0.8916 - recall: 0.9206 - recall_accuracy: 0.9061\n",
            "Epoch 8: val_recall_accuracy did not improve from 0.81616\n",
            "249/249 [==============================] - 138s 552ms/step - loss: 0.0117 - binary_accuracy: 0.8916 - recall: 0.9206 - recall_accuracy: 0.9061 - val_loss: 0.1639 - val_binary_accuracy: 0.9417 - val_recall: 0.6596 - val_recall_accuracy: 0.8007\n",
            "Epoch 9/1000\n",
            "249/249 [==============================] - ETA: 0s - loss: 0.0126 - binary_accuracy: 0.8821 - recall: 0.9101 - recall_accuracy: 0.8961\n",
            "Epoch 9: val_recall_accuracy improved from 0.81616 to 0.82378, saving model to /content/drive/MyDrive/팀 프로젝트/흉부_xray/224/all/Ch03_CheXNet_test1.h5\n",
            "249/249 [==============================] - 143s 572ms/step - loss: 0.0126 - binary_accuracy: 0.8821 - recall: 0.9101 - recall_accuracy: 0.8961 - val_loss: 0.2032 - val_binary_accuracy: 0.9242 - val_recall: 0.7234 - val_recall_accuracy: 0.8238\n",
            "Epoch 10/1000\n",
            "249/249 [==============================] - ETA: 0s - loss: 0.0112 - binary_accuracy: 0.9051 - recall: 0.9259 - recall_accuracy: 0.9155\n",
            "Epoch 10: val_recall_accuracy did not improve from 0.82378\n",
            "249/249 [==============================] - 141s 563ms/step - loss: 0.0112 - binary_accuracy: 0.9051 - recall: 0.9259 - recall_accuracy: 0.9155 - val_loss: 0.5333 - val_binary_accuracy: 0.7418 - val_recall: 0.8511 - val_recall_accuracy: 0.7965\n",
            "Epoch 11/1000\n",
            "249/249 [==============================] - ETA: 0s - loss: 0.0105 - binary_accuracy: 0.9104 - recall: 0.9259 - recall_accuracy: 0.9182\n",
            "Epoch 11: val_recall_accuracy did not improve from 0.82378\n",
            "249/249 [==============================] - 141s 565ms/step - loss: 0.0105 - binary_accuracy: 0.9104 - recall: 0.9259 - recall_accuracy: 0.9182 - val_loss: 0.4098 - val_binary_accuracy: 0.8538 - val_recall: 0.7872 - val_recall_accuracy: 0.8205\n",
            "Epoch 12/1000\n",
            "249/249 [==============================] - ETA: 0s - loss: 0.0117 - binary_accuracy: 0.9025 - recall: 0.9048 - recall_accuracy: 0.9036\n",
            "Epoch 12: val_recall_accuracy improved from 0.82378 to 0.84483, saving model to /content/drive/MyDrive/팀 프로젝트/흉부_xray/224/all/Ch03_CheXNet_test1.h5\n",
            "249/249 [==============================] - 144s 580ms/step - loss: 0.0117 - binary_accuracy: 0.9025 - recall: 0.9048 - recall_accuracy: 0.9036 - val_loss: 0.3535 - val_binary_accuracy: 0.8599 - val_recall: 0.8298 - val_recall_accuracy: 0.8448\n",
            "Epoch 13/1000\n",
            "249/249 [==============================] - ETA: 0s - loss: 0.0122 - binary_accuracy: 0.8924 - recall: 0.9153 - recall_accuracy: 0.9039\n",
            "Epoch 13: val_recall_accuracy did not improve from 0.84483\n",
            "249/249 [==============================] - 140s 563ms/step - loss: 0.0122 - binary_accuracy: 0.8924 - recall: 0.9153 - recall_accuracy: 0.9039 - val_loss: 0.1174 - val_binary_accuracy: 0.9684 - val_recall: 0.5745 - val_recall_accuracy: 0.7714\n",
            "Epoch 14/1000\n",
            "249/249 [==============================] - ETA: 0s - loss: 0.0080 - binary_accuracy: 0.9317 - recall: 0.9312 - recall_accuracy: 0.9315\n",
            "Epoch 14: val_recall_accuracy did not improve from 0.84483\n",
            "249/249 [==============================] - 144s 578ms/step - loss: 0.0080 - binary_accuracy: 0.9317 - recall: 0.9312 - recall_accuracy: 0.9315 - val_loss: 0.1432 - val_binary_accuracy: 0.9448 - val_recall: 0.4681 - val_recall_accuracy: 0.7064\n",
            "Epoch 15/1000\n",
            "249/249 [==============================] - ETA: 0s - loss: 0.0080 - binary_accuracy: 0.9226 - recall: 0.9312 - recall_accuracy: 0.9269\n",
            "Epoch 15: val_recall_accuracy improved from 0.84483 to 0.86433, saving model to /content/drive/MyDrive/팀 프로젝트/흉부_xray/224/all/Ch03_CheXNet_test1.h5\n",
            "249/249 [==============================] - 146s 583ms/step - loss: 0.0080 - binary_accuracy: 0.9226 - recall: 0.9312 - recall_accuracy: 0.9269 - val_loss: 0.2137 - val_binary_accuracy: 0.9201 - val_recall: 0.8085 - val_recall_accuracy: 0.8643\n",
            "Epoch 16/1000\n",
            "249/249 [==============================] - ETA: 0s - loss: 0.0104 - binary_accuracy: 0.8919 - recall: 0.9259 - recall_accuracy: 0.9089\n",
            "Epoch 16: val_recall_accuracy did not improve from 0.86433\n",
            "249/249 [==============================] - 139s 558ms/step - loss: 0.0104 - binary_accuracy: 0.8919 - recall: 0.9259 - recall_accuracy: 0.9089 - val_loss: 0.1195 - val_binary_accuracy: 0.9558 - val_recall: 0.5745 - val_recall_accuracy: 0.7651\n",
            "Epoch 17/1000\n",
            "249/249 [==============================] - ETA: 0s - loss: 0.0077 - binary_accuracy: 0.9217 - recall: 0.9471 - recall_accuracy: 0.9344\n",
            "Epoch 17: val_recall_accuracy did not improve from 0.86433\n",
            "249/249 [==============================] - 140s 562ms/step - loss: 0.0077 - binary_accuracy: 0.9217 - recall: 0.9471 - recall_accuracy: 0.9344 - val_loss: 0.1202 - val_binary_accuracy: 0.9563 - val_recall: 0.5957 - val_recall_accuracy: 0.7760\n",
            "Epoch 18/1000\n",
            "249/249 [==============================] - ETA: 0s - loss: 0.0083 - binary_accuracy: 0.9301 - recall: 0.9524 - recall_accuracy: 0.9412\n",
            "Epoch 18: val_recall_accuracy did not improve from 0.86433\n",
            "249/249 [==============================] - 146s 585ms/step - loss: 0.0083 - binary_accuracy: 0.9301 - recall: 0.9524 - recall_accuracy: 0.9412 - val_loss: 0.1269 - val_binary_accuracy: 0.9528 - val_recall: 0.5957 - val_recall_accuracy: 0.7743\n",
            "Epoch 19/1000\n",
            "249/249 [==============================] - ETA: 0s - loss: 0.0099 - binary_accuracy: 0.9308 - recall: 0.9365 - recall_accuracy: 0.9337\n",
            "Epoch 19: val_recall_accuracy did not improve from 0.86433\n",
            "249/249 [==============================] - 143s 572ms/step - loss: 0.0099 - binary_accuracy: 0.9308 - recall: 0.9365 - recall_accuracy: 0.9337 - val_loss: 0.1449 - val_binary_accuracy: 0.9432 - val_recall: 0.7447 - val_recall_accuracy: 0.8440\n",
            "Epoch 20/1000\n",
            "249/249 [==============================] - ETA: 0s - loss: 0.0073 - binary_accuracy: 0.9349 - recall: 0.9471 - recall_accuracy: 0.9410\n",
            "Epoch 20: val_recall_accuracy did not improve from 0.86433\n",
            "249/249 [==============================] - 137s 550ms/step - loss: 0.0073 - binary_accuracy: 0.9349 - recall: 0.9471 - recall_accuracy: 0.9410 - val_loss: 0.0919 - val_binary_accuracy: 0.9709 - val_recall: 0.3830 - val_recall_accuracy: 0.6769\n",
            "Epoch 21/1000\n",
            "249/249 [==============================] - ETA: 0s - loss: 0.0078 - binary_accuracy: 0.9336 - recall: 0.9312 - recall_accuracy: 0.9324\n",
            "Epoch 21: val_recall_accuracy did not improve from 0.86433\n",
            "249/249 [==============================] - 138s 555ms/step - loss: 0.0078 - binary_accuracy: 0.9336 - recall: 0.9312 - recall_accuracy: 0.9324 - val_loss: 0.1459 - val_binary_accuracy: 0.9437 - val_recall: 0.7660 - val_recall_accuracy: 0.8549\n",
            "Epoch 22/1000\n",
            "249/249 [==============================] - ETA: 0s - loss: 0.0080 - binary_accuracy: 0.9275 - recall: 0.9577 - recall_accuracy: 0.9426\n",
            "Epoch 22: val_recall_accuracy did not improve from 0.86433\n",
            "249/249 [==============================] - 141s 565ms/step - loss: 0.0080 - binary_accuracy: 0.9275 - recall: 0.9577 - recall_accuracy: 0.9426 - val_loss: 0.0739 - val_binary_accuracy: 0.9774 - val_recall: 0.6383 - val_recall_accuracy: 0.8078\n",
            "Epoch 23/1000\n",
            "249/249 [==============================] - ETA: 0s - loss: 0.0068 - binary_accuracy: 0.9401 - recall: 0.9630 - recall_accuracy: 0.9515\n",
            "Epoch 23: val_recall_accuracy did not improve from 0.86433\n",
            "249/249 [==============================] - 138s 553ms/step - loss: 0.0068 - binary_accuracy: 0.9401 - recall: 0.9630 - recall_accuracy: 0.9515 - val_loss: 0.0788 - val_binary_accuracy: 0.9809 - val_recall: 0.5745 - val_recall_accuracy: 0.7777\n",
            "Epoch 24/1000\n",
            "249/249 [==============================] - ETA: 0s - loss: 0.0080 - binary_accuracy: 0.9339 - recall: 0.9471 - recall_accuracy: 0.9405\n",
            "Epoch 24: val_recall_accuracy did not improve from 0.86433\n",
            "249/249 [==============================] - 137s 548ms/step - loss: 0.0080 - binary_accuracy: 0.9339 - recall: 0.9471 - recall_accuracy: 0.9405 - val_loss: 0.1534 - val_binary_accuracy: 0.9402 - val_recall: 0.6596 - val_recall_accuracy: 0.7999\n",
            "Epoch 25/1000\n",
            "249/249 [==============================] - ETA: 0s - loss: 0.0064 - binary_accuracy: 0.9394 - recall: 0.9683 - recall_accuracy: 0.9538\n",
            "Epoch 25: val_recall_accuracy did not improve from 0.86433\n",
            "249/249 [==============================] - 139s 557ms/step - loss: 0.0064 - binary_accuracy: 0.9394 - recall: 0.9683 - recall_accuracy: 0.9538 - val_loss: 0.1234 - val_binary_accuracy: 0.9573 - val_recall: 0.5532 - val_recall_accuracy: 0.7552\n",
            "Epoch 26/1000\n",
            "249/249 [==============================] - ETA: 0s - loss: 0.0069 - binary_accuracy: 0.9443 - recall: 0.9524 - recall_accuracy: 0.9483\n",
            "Epoch 26: val_recall_accuracy did not improve from 0.86433\n",
            "249/249 [==============================] - 138s 555ms/step - loss: 0.0069 - binary_accuracy: 0.9443 - recall: 0.9524 - recall_accuracy: 0.9483 - val_loss: 0.2512 - val_binary_accuracy: 0.9121 - val_recall: 0.7234 - val_recall_accuracy: 0.8178\n",
            "Epoch 27/1000\n",
            "249/249 [==============================] - ETA: 0s - loss: 0.0070 - binary_accuracy: 0.9401 - recall: 0.9630 - recall_accuracy: 0.9515\n",
            "Epoch 27: val_recall_accuracy improved from 0.86433 to 0.86693, saving model to /content/drive/MyDrive/팀 프로젝트/흉부_xray/224/all/Ch03_CheXNet_test1.h5\n",
            "249/249 [==============================] - 145s 584ms/step - loss: 0.0070 - binary_accuracy: 0.9401 - recall: 0.9630 - recall_accuracy: 0.9515 - val_loss: 0.3056 - val_binary_accuracy: 0.9041 - val_recall: 0.8298 - val_recall_accuracy: 0.8669\n",
            "Epoch 28/1000\n",
            "249/249 [==============================] - ETA: 0s - loss: 0.0110 - binary_accuracy: 0.9106 - recall: 0.9312 - recall_accuracy: 0.9209\n",
            "Epoch 28: val_recall_accuracy did not improve from 0.86693\n",
            "249/249 [==============================] - 142s 568ms/step - loss: 0.0110 - binary_accuracy: 0.9106 - recall: 0.9312 - recall_accuracy: 0.9209 - val_loss: 0.1102 - val_binary_accuracy: 0.9563 - val_recall: 0.6809 - val_recall_accuracy: 0.8186\n",
            "Epoch 29/1000\n",
            "249/249 [==============================] - ETA: 0s - loss: 0.0086 - binary_accuracy: 0.9308 - recall: 0.9312 - recall_accuracy: 0.9310\n",
            "Epoch 29: val_recall_accuracy did not improve from 0.86693\n",
            "249/249 [==============================] - 137s 548ms/step - loss: 0.0086 - binary_accuracy: 0.9308 - recall: 0.9312 - recall_accuracy: 0.9310 - val_loss: 0.1134 - val_binary_accuracy: 0.9623 - val_recall: 0.7021 - val_recall_accuracy: 0.8322\n",
            "Epoch 30/1000\n",
            "249/249 [==============================] - ETA: 0s - loss: 0.0070 - binary_accuracy: 0.9413 - recall: 0.9577 - recall_accuracy: 0.9495\n",
            "Epoch 30: val_recall_accuracy did not improve from 0.86693\n",
            "249/249 [==============================] - 137s 551ms/step - loss: 0.0070 - binary_accuracy: 0.9413 - recall: 0.9577 - recall_accuracy: 0.9495 - val_loss: 0.2183 - val_binary_accuracy: 0.9211 - val_recall: 0.7872 - val_recall_accuracy: 0.8542\n",
            "Epoch 31/1000\n",
            "249/249 [==============================] - ETA: 0s - loss: 0.0054 - binary_accuracy: 0.9497 - recall: 0.9630 - recall_accuracy: 0.9563\n",
            "Epoch 31: val_recall_accuracy did not improve from 0.86693\n",
            "249/249 [==============================] - 144s 576ms/step - loss: 0.0054 - binary_accuracy: 0.9497 - recall: 0.9630 - recall_accuracy: 0.9563 - val_loss: 0.1102 - val_binary_accuracy: 0.9608 - val_recall: 0.7447 - val_recall_accuracy: 0.8528\n",
            "Epoch 32/1000\n",
            "249/249 [==============================] - ETA: 0s - loss: 0.0079 - binary_accuracy: 0.9377 - recall: 0.9524 - recall_accuracy: 0.9451\n",
            "Epoch 32: val_recall_accuracy did not improve from 0.86693\n",
            "249/249 [==============================] - 137s 550ms/step - loss: 0.0079 - binary_accuracy: 0.9377 - recall: 0.9524 - recall_accuracy: 0.9451 - val_loss: 0.2548 - val_binary_accuracy: 0.8935 - val_recall: 0.7872 - val_recall_accuracy: 0.8404\n",
            "Epoch 33/1000\n",
            "249/249 [==============================] - ETA: 0s - loss: 0.0071 - binary_accuracy: 0.9291 - recall: 0.9418 - recall_accuracy: 0.9354\n",
            "Epoch 33: val_recall_accuracy did not improve from 0.86693\n",
            "249/249 [==============================] - 139s 558ms/step - loss: 0.0071 - binary_accuracy: 0.9291 - recall: 0.9418 - recall_accuracy: 0.9354 - val_loss: 0.1154 - val_binary_accuracy: 0.9608 - val_recall: 0.6383 - val_recall_accuracy: 0.7996\n",
            "Epoch 34/1000\n",
            "249/249 [==============================] - ETA: 0s - loss: 0.0057 - binary_accuracy: 0.9513 - recall: 0.9630 - recall_accuracy: 0.9571\n",
            "Epoch 34: val_recall_accuracy did not improve from 0.86693\n",
            "249/249 [==============================] - 138s 553ms/step - loss: 0.0057 - binary_accuracy: 0.9513 - recall: 0.9630 - recall_accuracy: 0.9571 - val_loss: 0.3240 - val_binary_accuracy: 0.8960 - val_recall: 0.7660 - val_recall_accuracy: 0.8310\n",
            "Epoch 35/1000\n",
            "249/249 [==============================] - ETA: 0s - loss: 0.0060 - binary_accuracy: 0.9438 - recall: 0.9630 - recall_accuracy: 0.9534\n",
            "Epoch 35: val_recall_accuracy did not improve from 0.86693\n",
            "249/249 [==============================] - 137s 548ms/step - loss: 0.0060 - binary_accuracy: 0.9438 - recall: 0.9630 - recall_accuracy: 0.9534 - val_loss: 0.0786 - val_binary_accuracy: 0.9714 - val_recall: 0.5106 - val_recall_accuracy: 0.7410\n",
            "Epoch 36/1000\n",
            "249/249 [==============================] - ETA: 0s - loss: 0.0053 - binary_accuracy: 0.9553 - recall: 0.9788 - recall_accuracy: 0.9671\n",
            "Epoch 36: val_recall_accuracy did not improve from 0.86693\n",
            "249/249 [==============================] - 141s 566ms/step - loss: 0.0053 - binary_accuracy: 0.9553 - recall: 0.9788 - recall_accuracy: 0.9671 - val_loss: 0.1456 - val_binary_accuracy: 0.9603 - val_recall: 0.4681 - val_recall_accuracy: 0.7142\n",
            "Epoch 37/1000\n",
            "249/249 [==============================] - ETA: 0s - loss: 0.0068 - binary_accuracy: 0.9365 - recall: 0.9471 - recall_accuracy: 0.9418\n",
            "Epoch 37: val_recall_accuracy did not improve from 0.86693\n",
            "249/249 [==============================] - 139s 558ms/step - loss: 0.0068 - binary_accuracy: 0.9365 - recall: 0.9471 - recall_accuracy: 0.9418 - val_loss: 0.5718 - val_binary_accuracy: 0.7368 - val_recall: 0.8298 - val_recall_accuracy: 0.7833\n",
            "Epoch 38/1000\n",
            "249/249 [==============================] - ETA: 0s - loss: 0.0063 - binary_accuracy: 0.9464 - recall: 0.9630 - recall_accuracy: 0.9547\n",
            "Epoch 38: val_recall_accuracy did not improve from 0.86693\n",
            "249/249 [==============================] - 142s 571ms/step - loss: 0.0063 - binary_accuracy: 0.9464 - recall: 0.9630 - recall_accuracy: 0.9547 - val_loss: 0.1001 - val_binary_accuracy: 0.9734 - val_recall: 0.4681 - val_recall_accuracy: 0.7207\n",
            "Epoch 39/1000\n",
            "249/249 [==============================] - ETA: 0s - loss: 0.0058 - binary_accuracy: 0.9475 - recall: 0.9735 - recall_accuracy: 0.9605\n",
            "Epoch 39: val_recall_accuracy did not improve from 0.86693\n",
            "249/249 [==============================] - 137s 550ms/step - loss: 0.0058 - binary_accuracy: 0.9475 - recall: 0.9735 - recall_accuracy: 0.9605 - val_loss: 0.0852 - val_binary_accuracy: 0.9819 - val_recall: 0.4468 - val_recall_accuracy: 0.7144\n",
            "Epoch 40/1000\n",
            "105/249 [===========>..................] - ETA: 1:16 - loss: 0.0034 - binary_accuracy: 0.9652 - recall: 0.9753 - recall_accuracy: 0.9702"
          ]
        }
      ],
      "source": [
        "history = model.fit(train_generator,\n",
        "          epochs=1000,\n",
        "          validation_data=test_generator,\n",
        "        #   steps_per_epoch=len(train_generator),\n",
        "        #   validation_steps=len(test_generator),\n",
        "          callbacks=[es, mc],\n",
        "          class_weight={0:rate_1/rate_0, 1:1.}\n",
        "          )\n"
      ]
    },
    {
      "cell_type": "code",
      "execution_count": null,
      "metadata": {
        "colab": {
          "base_uri": "https://localhost:8080/",
          "height": 350
        },
        "id": "g-cB30om8n9q",
        "outputId": "0eba0466-992f-418a-c419-846d89499719"
      },
      "outputs": [
        {
          "data": {
            "image/png": "[encoded data removed]",
            "text/plain": [
              "<Figure size 864x360 with 2 Axes>"
            ]
          },
          "metadata": {},
          "output_type": "display_data"
        }
      ],
      "source": [
        "import matplotlib.pyplot as plt\n",
        "\n",
        "loss = history.history['loss']\n",
        "epochs = range(1, len(loss)+1)\n",
        "\n",
        "plt.figure(figsize=(12, 5))\n",
        "plt.subplot(1, 2, 1)\n",
        "plt.title('Loss')\n",
        "plt.plot(epochs, history.history['loss'], 'b', label='train_loss')\n",
        "plt.plot(epochs, history.history['val_loss'], 'g', label='val_loss')\n",
        "plt.ylim([0,1.0])\n",
        "plt.grid(True)\n",
        "plt.xlabel('Epoch')\n",
        "plt.ylabel('Loss')\n",
        "plt.legend(loc='best')\n",
        "\n",
        "plt.subplot(1, 2, 2)\n",
        "plt.title('Accuray')\n",
        "plt.plot(epochs, history.history['binary_accuracy'], 'b', label='train_accuracy')\n",
        "plt.plot(epochs, history.history['val_binary_accuracy'], 'g', label='val_accuracy')\n",
        "plt.ylim([0.7,1])\n",
        "plt.grid(True)\n",
        "plt.ylabel('Accuracy')\n",
        "plt.legend(loc='best')\n",
        "plt.show()"
      ]
    },
    {
      "cell_type": "code",
      "execution_count": null,
      "metadata": {
        "id": "GEu9MV93kVOT"
      },
      "outputs": [],
      "source": [
        "x_valid = np.load('/content/drive/MyDrive/팀 프로젝트/흉부_xray/224/valid/Ch03_x_Valid.npy')\n",
        "y_valid = np.load('/content/drive/MyDrive/팀 프로젝트/흉부_xray/224/valid/Ch03_y_Valid.npy')"
      ]
    },
    {
      "cell_type": "code",
      "execution_count": null,
      "metadata": {
        "id": "Qq3yexKar9Pc"
      },
      "outputs": [],
      "source": [
        "import tensorflow as tf\n",
        "from tensorflow.keras.utils import custom_object_scope\n",
        "\n",
        "\n",
        "with custom_object_scope({'RecallAccuracyMetric': RecallAccuracyMetric}):\n",
        "    model = tf.keras.models.load_model(saved_model)\n",
        "\n",
        "    "
      ]
    },
    {
      "cell_type": "code",
      "execution_count": null,
      "metadata": {
        "colab": {
          "base_uri": "https://localhost:8080/"
        },
        "id": "y4t13f18kX8C",
        "outputId": "7796bef6-7b17-4866-a91c-5521ead22b2b"
      },
      "outputs": [
        {
          "name": "stdout",
          "output_type": "stream",
          "text": [
            "66/66 [==============================] - 361s 5s/step\n"
          ]
        }
      ],
      "source": [
        "y_out = model.predict(x_valid)\n",
        "y_predict = np.round(y_out)"
      ]
    },
    {
      "cell_type": "code",
      "execution_count": null,
      "metadata": {
        "id": "ZYaU0_V0kZpI"
      },
      "outputs": [],
      "source": [
        "y_1 = []\n",
        "y_0 = []\n",
        "x_0 = []\n",
        "x_1 = []\n",
        "for idx, i in enumerate(y_valid):\n",
        "  if i == 1:\n",
        "    y_1.append(i)\n",
        "    x_1.append(x_valid[idx])\n",
        "  else:\n",
        "    y_0.append(i)\n",
        "    x_0.append(x_valid[idx])\n",
        "\n",
        "x_0 = np.array(x_0)\n",
        "y_0 = np.array(y_0)\n",
        "x_1 = np.array(x_1)\n",
        "y_1 = np.array(y_1)"
      ]
    },
    {
      "cell_type": "code",
      "execution_count": null,
      "metadata": {
        "colab": {
          "base_uri": "https://localhost:8080/",
          "height": 437
        },
        "id": "g23jNWGukb73",
        "outputId": "7b2b5a98-a7f1-417b-db46-7ba5e8d3592b"
      },
      "outputs": [
        {
          "data": {
            "text/plain": [
              "<function matplotlib.pyplot.show(*args, **kw)>"
            ]
          },
          "execution_count": 19,
          "metadata": {},
          "output_type": "execute_result"
        },
        {
          "data": {
            "image/png": "[encoded data removed]",
            "text/plain": [
              "<Figure size 864x504 with 2 Axes>"
            ]
          },
          "metadata": {},
          "output_type": "display_data"
        }
      ],
      "source": [
        "from sklearn.metrics import confusion_matrix\n",
        "import seaborn as sns\n",
        "import matplotlib.pyplot as plt\n",
        "# x_0은 label == 0인 데이터, x_1은 label == 1인 데이터만 모은 것\n",
        "cf_matrix = confusion_matrix(y_valid, y_predict) / np.array([x_0.shape[0], x_1.shape[0]]).reshape(-1,1)\n",
        "\n",
        "plt.figure(figsize = (12,7))\n",
        "sns.heatmap(cf_matrix, annot=True)\n",
        "plt.show"
      ]
    },
    {
      "cell_type": "code",
      "execution_count": null,
      "metadata": {
        "colab": {
          "base_uri": "https://localhost:8080/"
        },
        "id": "ejqCuriLLp38",
        "outputId": "81b04426-21fc-48cf-98c6-78192adbe1e8"
      },
      "outputs": [
        {
          "data": {
            "text/plain": [
              "array([[1.8984620e-05],\n",
              "       [6.1610381e-06],\n",
              "       [1.8984620e-05],\n",
              "       ...,\n",
              "       [7.0107717e-04],\n",
              "       [1.7870307e-02],\n",
              "       [4.2321363e-01]], dtype=float32)"
            ]
          },
          "execution_count": 20,
          "metadata": {},
          "output_type": "execute_result"
        }
      ],
      "source": [
        "y_out"
      ]
    },
    {
      "cell_type": "code",
      "execution_count": null,
      "metadata": {
        "colab": {
          "base_uri": "https://localhost:8080/"
        },
        "id": "xFwW4LTvLp38",
        "outputId": "c0ba9f2c-996e-441b-b23b-5d22255e895b"
      },
      "outputs": [
        {
          "name": "stdout",
          "output_type": "stream",
          "text": [
            "2/2 [==============================] - 7s 1s/step\n"
          ]
        },
        {
          "data": {
            "text/plain": [
              "0.7755943"
            ]
          },
          "execution_count": 21,
          "metadata": {},
          "output_type": "execute_result"
        }
      ],
      "source": [
        "np.mean(model.predict(x_1))"
      ]
    },
    {
      "cell_type": "code",
      "execution_count": null,
      "metadata": {
        "colab": {
          "background_save": true,
          "base_uri": "https://localhost:8080/"
        },
        "id": "zCZsme7BccJJ",
        "outputId": "ea31f70f-dc8b-4f87-e804-8d6487fd0f04"
      },
      "outputs": [
        {
          "name": "stdout",
          "output_type": "stream",
          "text": [
            "65/65 [==============================] - 345s 5s/step\n"
          ]
        },
        {
          "data": {
            "text/plain": [
              "0.07822225"
            ]
          },
          "execution_count": 22,
          "metadata": {},
          "output_type": "execute_result"
        }
      ],
      "source": [
        "np.mean(model.predict(x_0))"
      ]
    },
    {
      "cell_type": "code",
      "execution_count": null,
      "metadata": {
        "id": "u5n109mKS6bE"
      },
      "outputs": [],
      "source": []
    }
  ],
  "metadata": {
    "accelerator": "GPU",
    "colab": {
      "provenance": [],
      "include_colab_link": true
    },
    "gpuClass": "standard",
    "kernelspec": {
      "display_name": "chaddol",
      "language": "python",
      "name": "python3"
    },
    "language_info": {
      "codemirror_mode": {
        "name": "ipython",
        "version": 3
      },
      "file_extension": ".py",
      "mimetype": "text/x-python",
      "name": "python",
      "nbconvert_exporter": "python",
      "pygments_lexer": "ipython3",
      "version": "3.9.15"
    },
    "vscode": {
      "interpreter": {
        "hash": "a687caacb10a844a55fefd3b5f8dd537474e79b4cd9a59a4e226ce1d72456a88"
      }
    }
  },
  "nbformat": 4,
  "nbformat_minor": 0
}